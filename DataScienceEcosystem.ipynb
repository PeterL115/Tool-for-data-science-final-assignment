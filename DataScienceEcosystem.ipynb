{
 "cells": [
  {
   "cell_type": "markdown",
   "id": "c1216da4-b9c7-4188-93a3-3f85252da50c",
   "metadata": {},
   "source": [
    "# Data Science Tools and Ecosystem"
   ]
  },
  {
   "cell_type": "markdown",
   "id": "e63f50c3-5a1c-41bd-a1c0-78ee19c8faff",
   "metadata": {},
   "source": [
    "In this notebook, Data Science Tools and Ecosystem are summarized."
   ]
  },
  {
   "cell_type": "markdown",
   "id": "f490bee7-0b2c-4b90-8916-b1c1478e0dae",
   "metadata": {
    "tags": []
   },
   "source": [
    "#### Some of the popular languages that Data Scientists use are:\n",
    "\n",
    "1. Python - an open-source, general-purpose programming language with broad applicability not only in the data science industry, but also in other domains, like web development and video game development.\n",
    "2. R - a language and environment for statistical computing and graphics that provides a wide variety of statistical and graphical techniques.\n",
    "3. SQL (Structured Query Language) - a standard language for managing and querying data held in relational databases."
   ]
  },
  {
   "cell_type": "markdown",
   "id": "8c02ad90-13f2-46b5-8229-a12634a1e9b8",
   "metadata": {},
   "source": [
    "#### Some of the commonly used libraries used by Data Scientists include:\n",
    "\n",
    "1. NumPy - a library for scientific computing and performing basic and advanced array operations.\n",
    "2. Pandas - a library for data analysis, data manipulation, and data cleaning.\n",
    "3. Matplotlib - a library for creating static, animated, and interactive visualizations in Python.\n",
    "4. Scikit-Learn - a library for machine learning in Python that provides simple and efficient tools for predictive data analysis.\n",
    "5. SciPy - a library used for scientific computing and technical computing that provides modules for optimization, integration, interpolation, eigenvalue problems, signal and image processing, etc\n"
   ]
  },
  {
   "cell_type": "markdown",
   "id": "364bbbb3-46ef-4855-9044-0b79119559b3",
   "metadata": {},
   "source": [
    "| Data Science Tools |\n",
    "| ------------------ |\n",
    "| JupyterLab |\n",
    "|Spyder |\n",
    "| RStudio |"
   ]
  },
  {
   "cell_type": "markdown",
   "id": "eaacb33c-f432-475d-ac5a-98083163d961",
   "metadata": {},
   "source": [
    "### Below are a few examples of evaluating arithmetic expressions in Python\n"
   ]
  },
  {
   "cell_type": "code",
   "execution_count": 1,
   "id": "73f49db4-eeb1-4008-aa8f-3a2f074969a3",
   "metadata": {
    "tags": []
   },
   "outputs": [
    {
     "name": "stdout",
     "output_type": "stream",
     "text": [
      "8\n",
      "8\n",
      "12\n",
      "4.0\n",
      "8\n",
      "1\n",
      "3\n"
     ]
    }
   ],
   "source": [
    "# Addition\n",
    "print(3 + 5) # 8\n",
    "\n",
    "# Subtraction\n",
    "print(10 - 2) # 8\n",
    "\n",
    "# Multiplication\n",
    "print(3 * 4) # 12\n",
    "\n",
    "# Division\n",
    "print(8 / 2) # 4.0\n",
    "\n",
    "# Exponentiation\n",
    "print(2 ** 3) # 8\n",
    "\n",
    "# Modulus\n",
    "print(10 % 3) # 1\n",
    "\n",
    "# Floor division\n",
    "print(7 // 2) # 3\n"
   ]
  },
  {
   "cell_type": "code",
   "execution_count": 2,
   "id": "bce16a60-c3db-4344-bc8c-2e7ab6ce446e",
   "metadata": {
    "tags": []
   },
   "outputs": [
    {
     "data": {
      "text/plain": [
       "17"
      ]
     },
     "execution_count": 2,
     "metadata": {},
     "output_type": "execute_result"
    }
   ],
   "source": [
    "#This a simple arithmetic expression to mutiply then add integers\n",
    "(3*4)+5"
   ]
  },
  {
   "cell_type": "code",
   "execution_count": 5,
   "id": "689134c5-62ed-48af-bf0c-e47179eb7bc1",
   "metadata": {
    "tags": []
   },
   "outputs": [
    {
     "name": "stdout",
     "output_type": "stream",
     "text": [
      "200mins is 3.3333333333333335 hours\n"
     ]
    }
   ],
   "source": [
    "#This will convert 200 minutes to hours by diving by 60\n",
    "min = 200\n",
    "hrs = min / 60\n",
    "print('200mins is',hrs,'hours')"
   ]
  },
  {
   "cell_type": "markdown",
   "id": "58fb836f-6a1a-4b0f-9dca-a349c3571d3f",
   "metadata": {},
   "source": [
    "#### Objectives\n",
    "\n",
    "- Create a markdown cell to list data science languages\n",
    "- Create a markdown cell to list data science libraries\n",
    "- Create a markdown cell with a table of Data Science tools\n",
    "- Create a markdown cell introducing arithmetic expression examples\n",
    "- Create a code cell to multiply and add numbers"
   ]
  },
  {
   "cell_type": "markdown",
   "id": "e2cd7eab-9aa4-4c28-a7c6-6600e47dc28b",
   "metadata": {},
   "source": [
    "## Author\n",
    "Peter\n"
   ]
  },
  {
   "cell_type": "code",
   "execution_count": null,
   "id": "7aaa9d3d-d6d7-4592-90f2-1b5bf29ba7aa",
   "metadata": {},
   "outputs": [],
   "source": []
  }
 ],
 "metadata": {
  "kernelspec": {
   "display_name": "Python",
   "language": "python",
   "name": "conda-env-python-py"
  },
  "language_info": {
   "codemirror_mode": {
    "name": "ipython",
    "version": 3
   },
   "file_extension": ".py",
   "mimetype": "text/x-python",
   "name": "python",
   "nbconvert_exporter": "python",
   "pygments_lexer": "ipython3",
   "version": "3.7.12"
  }
 },
 "nbformat": 4,
 "nbformat_minor": 5
}
